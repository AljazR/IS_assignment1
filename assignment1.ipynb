{
 "cells": [
  {
   "cell_type": "markdown",
   "metadata": {},
   "source": [
    "## Seminar Assignment 1\n",
    "Inteligentni sistemi, 20. 11. 2022   \n",
    "Klemen Bogataj in Aljaž Rakovec"
   ]
  },
  {
   "cell_type": "markdown",
   "metadata": {},
   "source": [
    "Seminarsko nalogo sva delala v Pythonu, za genetski algoritem pa sva uporabila knjižnico PyGAD (https://github.com/ahmedfgad/GeneticAlgorithmPython)."
   ]
  },
  {
   "cell_type": "markdown",
   "metadata": {},
   "source": [
    "#### Reprezentacija\n",
    "Labirint preberemo v NumPy matriko, kjer številke predstavljajo ratlična polja:\n",
    "- \\# -> 0\n",
    "- . -> 1\n",
    "- S -> 2\n",
    "- E -> 3\n",
    "- T -> 4\n",
    "\n",
    "Vse ostale parametre določimo ob inicializaciji genetskega algoritma.\n",
    "\n",
    "```Python\n",
    "char2num = {\"#\": 0, \".\": 1, \"S\": 2, \"E\": 3, \"T\": 4}\n",
    "def convert(mazeChars):\n",
    "    return np.array([[char2num[char] for char in line] for line in mazeChars], dtype=np.int32)\n",
    "```"
   ]
  },
  {
   "cell_type": "markdown",
   "metadata": {},
   "source": [
    "### Fitness funkcije\n",
    "- Fitness funkcija klemen1\n",
    "- Fitness funkcija klemen2\n",
    "- Fitness funkcija aljaz"
   ]
  },
  {
   "cell_type": "markdown",
   "metadata": {},
   "source": [
    "Končna fitness funkcija:\n",
    "\n",
    "```Python\n",
    "# insert\n",
    "```"
   ]
  },
  {
   "cell_type": "markdown",
   "metadata": {},
   "source": [
    "### Crossover funkcija\n",
    "\n",
    "- Uniform\n",
    "- None\n",
    "- crossover aljaz"
   ]
  },
  {
   "cell_type": "markdown",
   "metadata": {},
   "source": [
    "Končni Crossover funkcija:\n",
    "\n",
    "```Python\n",
    "# insert\n",
    "```"
   ]
  },
  {
   "cell_type": "markdown",
   "metadata": {},
   "source": [
    "### Mutation funkcija\n",
    "\n",
    "- Mutacija aljaz\n",
    "- Mutacija klemen"
   ]
  },
  {
   "cell_type": "markdown",
   "metadata": {},
   "source": [
    "Končna mutation funkcija:\n",
    "\n",
    "```Python\n",
    "# insert\n",
    "```"
   ]
  },
  {
   "cell_type": "markdown",
   "metadata": {},
   "source": [
    "### Inicializacija genteskega algoritma\n",
    "\n",
    "Začetna inicializacija začetne populacije:\n"
   ]
  },
  {
   "cell_type": "markdown",
   "metadata": {},
   "source": [
    "Končna inicializacija začetne populacije:\n",
    "\n",
    "\n",
    "```Python\n",
    "# insert \n",
    "```"
   ]
  },
  {
   "cell_type": "markdown",
   "metadata": {},
   "source": [
    "Kreiranje instance genetskega algoritma:\n",
    "\n",
    "```Python\n",
    "ga_instance = pygad.GA(num_generations=2000,\n",
    "                       num_parents_mating=10,\n",
    "                       initial_population=population,\n",
    "                       gene_space=[0, 1, 2, 3],\n",
    "                       keep_elitism=5,\n",
    "                       stop_criteria=\"saturate_200\",\n",
    "                       crossover_type=crossover_func,\n",
    "                       mutation_probability=1,\n",
    "                       mutation_type=mutation_func,\n",
    "                       fitness_func=fitness_func,\n",
    "                       on_generation=on_generation,\n",
    "                       on_stop=on_stop)\n",
    "```\n",
    "\n",
    "Zagon genetskega algoritma:\n",
    "\n",
    "```Python\n",
    "ga_instance.run()\n",
    "\n",
    "```"
   ]
  }
 ],
 "metadata": {
  "kernelspec": {
   "display_name": "Python 3.8.10 64-bit",
   "language": "python",
   "name": "python3"
  },
  "language_info": {
   "codemirror_mode": {
    "name": "ipython",
    "version": 3
   },
   "file_extension": ".py",
   "mimetype": "text/x-python",
   "name": "python",
   "nbconvert_exporter": "python",
   "pygments_lexer": "ipython3",
   "version": "3.8.10"
  },
  "orig_nbformat": 4,
  "vscode": {
   "interpreter": {
    "hash": "916dbcbb3f70747c44a77c7bcd40155683ae19c65e1c03b4aa3499c5328201f1"
   }
  }
 },
 "nbformat": 4,
 "nbformat_minor": 2
}
