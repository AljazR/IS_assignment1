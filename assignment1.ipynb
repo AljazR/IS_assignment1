{
 "cells": [
  {
   "cell_type": "markdown",
   "metadata": {},
   "source": [
    "## Seminar Assignment 1\n",
    "Inteligentni sistemi, 20. 11. 2022   \n",
    "Klemen Bogataj in Aljaž Rakovec"
   ]
  },
  {
   "cell_type": "markdown",
   "metadata": {},
   "source": [
    "Seminarsko nalogo sva delala v Pythonu, za genetski algoritem pa sva uporabila knjižnico PyGAD (https://github.com/ahmedfgad/GeneticAlgorithmPython)."
   ]
  },
  {
   "cell_type": "markdown",
   "metadata": {},
   "source": [
    "#### Reprezentacija\n",
    "Labirint preberemo v NumPy matriko, kjer številke predstavljajo različna polja:\n",
    "- \\# -> 0\n",
    "- . -> 1\n",
    "- S -> 2\n",
    "- E -> 3\n",
    "- T -> 4\n",
    "\n",
    "Vse ostale parametre določimo ob inicializaciji genetskega algoritma."
   ]
  },
  {
   "cell_type": "markdown",
   "metadata": {},
   "source": [
    "### Fitness funkcije\n",
    "- ```fitness_func_klemen```   \n",
    "Iz reštve vzamemo samo prvih toliko potez, dokler ne pridemo do zidu ali cilja. Če smo dosegli cilj, je vrednost 1000 - dolžina poti, torej kaznujemo daljše poti, če cilja še nismo dosegli, pa je vrednost število obiskanih polj - dolžina poti / 1000, torej nagradimo rešitve, ki prepodujejo čimvečji del labirinta in jim to uspe s čim manj potezami.\n",
    "Težava je, da ne upoštevamo poti po prvem zadetem zidu, torej ne moremo oceniti uspešnosti sprememb od tam naprej.\n",
    "- ```fitness_func_klemen2```   \n",
    "Tukaj za začetno populacijo generiramo rešitve, ki vse pridejo do cilja, ampak grejo čez zidove. Vzamemo poteze od začetka do prvega prispetja na cilj. Za ta del poti izračunamo število prepotovanih različnih veljavnih polj, število potez, ki končajo izven mej labirinta in število zadetih zidov. Če smo do cilja prišli po samih veljavnih poljih, je vrednost 1000000 - dolžina poti, sicer pa najbolj kaznujemo poteze izven labirinta, nato zadete zidove, nagradimo pa poti, ki obiščejo čimveč različnih veljavnih polj.\n",
    "- ```fitness_func_aljaz```   \n",
    "Fukncija gre iterira čez rešitev. Če rešitev pripelje do zidu ali gre izven meje labirinta, zmanjša število točk. Prav tako ga zmanjša, če se vrne na isto polje kot je bil en korak nazaj. Če pride na polje, mu prišteje število točk glede na trenutno oddaljenost od cilja. Če pride do zaklada mu prav tako poveča število točk, ampak samo enkrat na vsak zaklad. Ko pide do cilja, število točko zelo poveča in odšteje število korakov, ki jih je rešitev porabila, da je prišla do cilja. S tem maksimiziramo najkrajšo rešitev. Funkcija vrne število točk, ko pride do cilja ali pa do konca rešitve. S pravimi mutacijami in crossoverjem lahko reši največ labirint 6."
   ]
  },
  {
   "cell_type": "markdown",
   "metadata": {},
   "source": [
    "**Končna fitness funkcija:**   \n",
    "Ker zdaj vse rešitve hodijo samo po veljavnih poljih, se ni traba ukvarjati z zidovi. Dokler še nismo na cilju nagradimo daljše poti ter obilno nagradimo vsak najden zaklad, ko pa prispemo na cilj, pa poleg nagrajevanja zakladov še obilneje nagradimo prispetje na cilj, dolžino poti pa tokrat kaznujemo.\n",
    "\n",
    "```Python\n",
    "def fitness_points(solution, solution_idx):\n",
    "    length = 0\n",
    "    found_treasures = set()\n",
    "    current_point = start_point\n",
    "    for i in range(solution.size):\n",
    "        current_move = int(solution[i])\n",
    "        length += moves_to_next_points[current_point][current_move].size\n",
    "        current_point = next_points[current_point, current_move]\n",
    "        if current_point == end_point:\n",
    "            return 1000000 + len(found_treasures) * 10000 - length\n",
    "        elif np.any(treasures == current_point):\n",
    "            found_treasures.add(current_point)\n",
    "            pass\n",
    "    return len(found_treasures) * 10000 + length\n",
    "```"
   ]
  },
  {
   "cell_type": "markdown",
   "metadata": {},
   "source": [
    "### Crossover funkcija\n",
    "\n",
    "- ```crossover_func_same_coordinate```   \n",
    "Funkcija iz seznama koordinat cele poti obeh strašev in njade katere koordinate imata enake. Če nimata nobene, potem izvede vgrajeni single-point crossover, v ostalih primerih pa izvede single-point crossover na eni izmed skupnih koordinat. Funkcija ni izboljšala delovanja od uporabe vgrajenega uniform crossoverja.  \n",
    "- Za vse nekončne rešitve sva uporabljala vgrajeni uniform crossover ali pa crossoverja sploh nisva uporabila."
   ]
  },
  {
   "cell_type": "markdown",
   "metadata": {},
   "source": [
    "**Končna crossover funkcija**:  \n",
    "V dveh rešitvah poiščemo skupne odločitvene točke, torej tiste, ki so vsaj enkrat obiskane pri obeh starših. Naključno izberemo eno izmed njih, in ker se lahko v rešitvi pojavi večkrat, še nakljušno izberemo eno izmed pojavitev. Potomce generiramo tako, da vzamemo del poti od začetka do izbrane pojavitve od enega starša, drugi del od te točke naprej pa od drugega. tudi ostala dela združimo, tako da imamo dva nova potomca. Ker lahko pride do drugačne dolžine kromosoma, daljšega na koncu odrežemo na želeno dolžino, krajšemu pa na koncu dodamo nove poteze tako, kot smo jih generirali za začetno populacijo. Tako dosežemo, da še vedno nobena pot nikoli ne gre čez zid.\n",
    "\n",
    "```Python\n",
    "def crossover_points(parents, offspring_size, ga_instance):\n",
    "    height, width =  maze.shape\n",
    "    offspring = []\n",
    "    id_parent = 0\n",
    "    while len(offspring) != offspring_size[0]:\n",
    "        # choose two parents\n",
    "        parent1 = parents[id_parent % parents.shape[0], :].copy()\n",
    "        parent2 = parents[(id_parent + 1) % parents.shape[0], :].copy()\n",
    "\n",
    "        # get all decision points for both parents\n",
    "        points1 = decision_points_visited(parent1)[:-1]\n",
    "        points2 = decision_points_visited(parent2)[:-1]\n",
    "\n",
    "        # calculates same points and randomly cooses one of them\n",
    "        same_points = set(points1).intersection(set(points2))\n",
    "        same_point = random.sample(same_points, 1)\n",
    "\n",
    "        # chooses one of the indexes of same_point for both parents\n",
    "        idx1_same_point = random.sample(set(np.where(points1 == same_point)[0]), 1)[0] + 1\n",
    "        idx2_same_point = random.sample(set(np.where(points2 == same_point)[0]), 1)[0] + 1\n",
    "\n",
    "        # splits parents in firt and second part\n",
    "        if idx1_same_point < idx2_same_point:\n",
    "            short_first_part = parent1[:idx1_same_point]\n",
    "            long_first_part = parent2[:idx2_same_point]\n",
    "            long_second_part = parent1[idx1_same_point:]\n",
    "            short_second_part = parent2[idx2_same_point:]\n",
    "        else:\n",
    "            short_first_part = parent2[:idx2_same_point]\n",
    "            long_first_part = parent1[:idx1_same_point]\n",
    "            long_second_part = parent2[idx2_same_point:]\n",
    "            short_second_part = parent1[idx1_same_point:]\n",
    "\n",
    "        # size difference\n",
    "        difference = abs(idx1_same_point - idx2_same_point)\n",
    "\n",
    "        # creates and adds the first child\n",
    "        long_child = np.concatenate((long_first_part, long_second_part))\n",
    "        if difference > 0:\n",
    "            long_child = long_child[:-difference]\n",
    "        offspring.append(long_child)\n",
    "\n",
    "        # creates and adds the second child if there is not enough offspring yet\n",
    "        if (len(offspring) < offspring_size[0]):\n",
    "            short_child = np.concatenate((short_first_part, short_second_part))\n",
    "            short_child = extend(short_child, difference)\n",
    "            offspring.append(short_child)\n",
    "        \n",
    "        id_parent += 1\n",
    "    #print(np.array(offspring))\n",
    "    return np.array(offspring)\n",
    "```"
   ]
  },
  {
   "cell_type": "markdown",
   "metadata": {},
   "source": [
    "### Mutation funkcija\n",
    "\n",
    "- ```mutation_func_aljaz```   \n",
    "Funkcija gre čez podani gen. Če prideme do zidu ali izven polja labirinta, naključno spremeni spremik v eno izmed ostalih treh smeri. Če je med sosednjimi kordinatami trenutne pozicije cilj, ga preusmeri tja in zaključi mutacijo. Mutacija zelo pomaga pri reševanu do sedmega labirinta. Zraven je bil uporabljen uniform crossover in verjetnost za mutacijo 100%.\n",
    "- ```mutation_func_two_adjacent_genes```   \n",
    "Izberemo naljučno mesto od začetka do prvega prispetja na cilj in tam izvedemo mutacijo odvisno od naslednjih dveh potez:\n",
    "    - Če sta potezi v eno smer in nazaj, izbrišemo te dve potezi, vse naslednje premaknemo za dve mesti v levo in na koncu dodamo dve naključni novi.\n",
    "    - Če sta potezi pravokotni, ju zamenjamo, torej na nek način obrnemo vogal, ki smo ga našli.\n",
    "    - Če sta potezi obe v isto smer, gremo po eni strani okrog vmesnega polja. Torej pred njiju vrinemo eno pravokotno potezo, za njiju pa pravokotno potezo ravno v drugo stran. Vse za tem zamaknemo za dve mesti naprej, pri tem se zadnji dve izbrišeta. LL -> ULLD / DLLU\n",
    "Na ta način dosežemo, da poti pred in po mutaciji gresta po istem delu labirinta kot prej in s tem preprečimo možnost, da pot ne bi več prišla do cilja."
   ]
  },
  {
   "cell_type": "markdown",
   "metadata": {},
   "source": [
    "**Končna mutation funkcija:**   \n",
    "Izberemo nakjučno mesto v rešitvi in od tam naprej naključno zgeneriramo veljavne poteze, tako kot pri začetni populaciji. Tako gre nova rešitev še vedno samo po veljavnih poljih.\n",
    "\n",
    "```Python\n",
    "def mutation_points(offspring, ga_instance):\n",
    "    for i in range(offspring.shape[0]):\n",
    "        mutation_locaion = random.randint(0, offspring.shape[1] - 1)\n",
    "        current_point = start_point\n",
    "        for j in range(mutation_locaion):\n",
    "            current_point = next_points[current_point, int(offspring[i, j])]\n",
    "        for j in range(mutation_locaion, offspring.shape[1]):\n",
    "            move = random.randint(0, 3)\n",
    "            point = next_points[current_point, move]\n",
    "            while point == -1:\n",
    "                move = random.randint(0, 3)\n",
    "                point = next_points[current_point, move]\n",
    "            offspring[i, j] = move\n",
    "            current_point = point\n",
    "    return offspring\n",
    "```"
   ]
  },
  {
   "cell_type": "markdown",
   "metadata": {},
   "source": [
    "### Inicializacija začetne populacije:\n",
    "```initial_to_end_through_walls```:   \n",
    "Generiramo poteze, ki ne grejo nujno po veljavnih poljih, vendar približno na polovici pridejo do cilja. To dosežemo tako, da izračunamo oddaljenost starta in cilja po obeh dimenzijah, zgeneriramo ustrezno večje ali manjše število potez gor, dol ter levo, desno, nato pa te poteze naključno premešamo. Preostali del poti zapolnimo z naključnimi potezami. Cilj na sredini omogoča, da se pot do tja skrajšuje ali podaljšuje, ne da bi cilj izpadel iz poti.\n"
   ]
  },
  {
   "cell_type": "markdown",
   "metadata": {},
   "source": [
    "**Končna inicializacija začetne populacije:**  \n",
    "V večini točk je nesmiselno iti v smer zidu ali nazaj, od koder smo prišli, zato najprej v labirintu poiščemo \"točke odločitve\", to so start, cilj, zakladi in veljavna polja, ki imajo vsaj tri sosednja veljavna polja. To pomeni, da če gremo od ene izmed teh točk v neko smer, nadaljujemo po poti vse do naslednje take točke, ne da bi se vmes obračali ali zaletavali v zid. Zato zdaj nima več smisla v populacijo pisati vseh potez, ampak samo poteze na teh točkah, saj so povezave med njimi jasne. Začetne rešitve torej generiramo tako, da začnemo na cilju, izberemo eno imed veljavnih potez, pogledamo do katere odločitvene točke bomo prišli po tej poti, nato pa pri te in vseh nasledjih odločitvenih točkah spet naključno izberemo eno izmed možnih veljavnih potez. Tako so vse rešitve zapisane v veliko krajši obliki in vse se po labitintu sprehajajo samo po veljavnih poljih.\n",
    "\n",
    "```Python\n",
    "def population_points(maze, sol_per_pop, length_factor):\n",
    "    num_points = next_points.shape[0]\n",
    "    num_genes = num_points * length_factor\n",
    "    population = np.zeros((sol_per_pop, num_genes), dtype=np.int32)\n",
    "    for i in range(sol_per_pop):\n",
    "        #population[i, 0] = start_point\n",
    "        current_point = start_point\n",
    "        # generates a valid sequence of decision points as one solution\n",
    "        for j in range(0, num_genes):\n",
    "            move = random.randint(0, 3)\n",
    "            point = next_points[current_point, move]\n",
    "            while point == -1:\n",
    "                move = random.randint(0, 3)\n",
    "                point = next_points[current_point, move]\n",
    "            population[i, j] = move\n",
    "            current_point = point\n",
    "            \n",
    "    return population\n",
    "```\n",
    "\n",
    "Primer izbire odločitvenih točk:    \n",
    "<img src=\"odlocitvene_tocke.png\" alt=\"Drawing\" style=\"width: 300px;\"/>"
   ]
  },
  {
   "cell_type": "markdown",
   "metadata": {},
   "source": [
    "### Inicializacija genteskega algoritma"
   ]
  },
  {
   "cell_type": "markdown",
   "metadata": {},
   "source": [
    "Primer instance genetskega algoritma za končno verzijo:\n",
    "\n",
    "```Python\n",
    "sol_per_pop = 50\n",
    "keep_elitism = 10\n",
    "num_parents_maiting = 20\n",
    "length_factor = 3\n",
    "population_p = population_points(maze, sol_per_pop, length_factor)\n",
    "\n",
    "ga_instance = pygad.GA(num_generations=2000,\n",
    "                       num_parents_mating=num_parents_maiting,\n",
    "                       #sol_per_pop=sol_per_pop,\n",
    "                       initial_population=population_p,\n",
    "                       gene_space=[0, 1, 2, 3],\n",
    "                       keep_elitism=keep_elitism,\n",
    "                       stop_criteria=\"saturate_100\",\n",
    "                       crossover_type=crossover_points,\n",
    "                       mutation_type=mutation_points,\n",
    "                       fitness_func=fitness_points,\n",
    "                       on_generation=on_generation,\n",
    "                       on_stop=on_stop_points)\n",
    "```\n",
    "\n",
    "Zagon genetskega algoritma:\n",
    "\n",
    "```Python\n",
    "ga_instance.run()\n",
    "\n",
    "```"
   ]
  },
  {
   "cell_type": "markdown",
   "metadata": {},
   "source": [
    "#### Graf časa izvajanja glede na velikost labirinta\n",
    "![Alt text](graf1.png)"
   ]
  },
  {
   "cell_type": "markdown",
   "metadata": {},
   "source": [
    "#### Graf števila generacij in časa glede na velikost labirinta\n",
    "![Alt text](graf2.png)"
   ]
  }
 ],
 "metadata": {
  "kernelspec": {
   "display_name": "Python 3.9.13 64-bit (microsoft store)",
   "language": "python",
   "name": "python3"
  },
  "language_info": {
   "codemirror_mode": {
    "name": "ipython",
    "version": 3
   },
   "file_extension": ".py",
   "mimetype": "text/x-python",
   "name": "python",
   "nbconvert_exporter": "python",
   "pygments_lexer": "ipython3",
   "version": "3.9.13"
  },
  "orig_nbformat": 4,
  "vscode": {
   "interpreter": {
    "hash": "fdce5722028e5fc3842c917e55eb24c832d3452d565d9511d2df1e02b1275225"
   }
  }
 },
 "nbformat": 4,
 "nbformat_minor": 2
}
