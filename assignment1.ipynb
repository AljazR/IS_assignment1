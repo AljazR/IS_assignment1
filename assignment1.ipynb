{
 "cells": [
  {
   "cell_type": "markdown",
   "metadata": {},
   "source": [
    "## Seminar Assignment 1\n",
    "Inteligentni sistemi, 20. 11. 2022   \n",
    "Klemen Bogataj in Aljaž Rakovec"
   ]
  },
  {
   "cell_type": "markdown",
   "metadata": {},
   "source": [
    "Seminarsko nalogo sva delala v Pythonu, za genetski algoritem pa sva uporabila knjižnico PyGAD (https://github.com/ahmedfgad/GeneticAlgorithmPython)."
   ]
  },
  {
   "cell_type": "markdown",
   "metadata": {},
   "source": [
    "#### Reprezentacija\n",
    "Labirint preberemo v NumPy matriko, kjer številke predstavljajo različna polja:\n",
    "- \\# -> 0\n",
    "- . -> 1\n",
    "- S -> 2\n",
    "- E -> 3\n",
    "- T -> 4\n",
    "\n",
    "Vse ostale parametre določimo ob inicializaciji genetskega algoritma.\n",
    "\n",
    "```Python\n",
    "char2num = {\"#\": 0, \".\": 1, \"S\": 2, \"E\": 3, \"T\": 4}\n",
    "def convert(mazeChars):\n",
    "    return np.array([[char2num[char] for char in line] for line in mazeChars], dtype=np.int32)\n",
    "```"
   ]
  },
  {
   "cell_type": "markdown",
   "metadata": {},
   "source": [
    "### Fitness funkcije\n",
    "- Fitness funkcija klemen1\n",
    "Iz reštve vzamemo samo prvih toliko potez, dokler ne pridemo do zidu ali cilja. Če smo dosegli cilj, je vrednost 1000 - dolžina poti, torej kaznujemo daljše poti, če cilja še nismo dosegli, pa je vrednost število obiskanih polj - dolžina poti / 1000, torej nagradimo rešitve, ki prepodujejo čimvečji del labirinta in jim to uspe s čim manj potezami.\n",
    "Težava je, da ne upoštevamo poti po prvem zadetem zidu, torej ne moremo oceniti uspešnosti sprememb od tam naprej.\n",
    "- Fitness funkcija klemen2\n",
    "Tukaj za začetno populacijo generiramo rešitve, ki vse pridejo do cilja, ampak grejo čez zidove. Vzamemo poteze od začetka do prvega prispetja na cilj. Za ta del poti izračunamo število prepotovanih različnih veljavnih polj, število potez, ki končajo izven mej labirinta in število zadetih zidov. Če smo do cilja prišli po samih veljavnih poljih, je vrednost 1000000 - dolžina poti, sicer pa najbolj kaznujemo poteze izven labirinta, nato zadete zidove, nagradimo pa poti, ki obiščejo čimveč različnih veljavnih polj.\n",
    "- Fitness funkcija aljaz"
   ]
  },
  {
   "cell_type": "markdown",
   "metadata": {},
   "source": [
    "Končna fitness funkcija:<br>\n",
    "Ker zdaj vse rešitve hodijo samo po veljavnih poljih, se ni traba ukvarjati z zidovi. Dokler še nismo na cilju nagradimo daljše poti ter obilno nagradimo vsak najden zaklad, ko pa prispemo na cilj, pa poleg nagrajevanja zakladov še obilneje nagradimo prispetje na cilj, dolžino poti pa tokrat kaznujemo.\n",
    "\n",
    "```Python\n",
    "# insert\n",
    "```"
   ]
  },
  {
   "cell_type": "markdown",
   "metadata": {},
   "source": [
    "### Crossover funkcija\n",
    "\n",
    "- Uniform\n",
    "- None\n",
    "- crossover aljaz"
   ]
  },
  {
   "cell_type": "markdown",
   "metadata": {},
   "source": [
    "Končna Crossover funkcija:<br>\n",
    "V dveh rešitvah poiščemo skupne odločitvene točke, torej tiste, ki so vsaj enkrat obiskane pri obeh starših. Naključno izberemo eno izmed njih, in ker se lahko v rešitvi pojavi večkrat, še nakljušno izberemo eno izmed pojavitev. Potomce generiramo tako, da vzamemo del poti od začetka do izbrane pojavitve od enega starša, drugi del od te točke naprej pa od drugega. tudi ostala dela združimo, tako da imamo dva nova potomca. Ker lahko pride do drugačne dolžine kromosoma, daljšega na koncu odrežemo na želeno dolžino, krajšemu pa na koncu dodamo nove poteze tako, kot smo jih generirali za začetno populacijo. Tako dosežemo, da še vedno nobena pot nikoli ne gre čez zid.\n",
    "\n",
    "```Python\n",
    "# insert\n",
    "```"
   ]
  },
  {
   "cell_type": "markdown",
   "metadata": {},
   "source": [
    "### Mutation funkcija\n",
    "\n",
    "- Mutacija aljaz\n",
    "- Mutacija klemen\n",
    "Izberemo naljučno mesto od začetka do prvega prispetja na cilj in tam izvedemo mutacijo odvisno od naslednjih dveh potez:\n",
    "    - Če sta potezi v eno smer in nazaj, izbrišemo te dve potezi , vse naslednje premeknemo za dve mesti v levo in na koncu dodamo dve naključni novi.\n",
    "    - Če sta potezi pravokotni, ju zamenjamo, torej na nek način obrnemo vogal, ki smo ga našli.\n",
    "    - Če sta potezi obe v isto smer, gremo po eni strani okrog vmesnega polja. Torej pred njiju vrinemo eno pravokotno potezo, za njiju pa pravokotno potezo ravno v drugo stran. Vse za tem zamaknemo za dve mesti naprej, pri tem se zadnji dve izbrišeta. LL -> ULLD / DLLU\n",
    "Na ta način dosežemo, da poti pred in po mutaciji gresta po istem delu labirinta kot prej, in s tem preprečimo možnost, da pot ne bi več prišla do cilja."
   ]
  },
  {
   "cell_type": "markdown",
   "metadata": {},
   "source": [
    "Končna mutation funkcija:\n",
    "\n",
    "```Python\n",
    "# insert\n",
    "```"
   ]
  },
  {
   "cell_type": "markdown",
   "metadata": {},
   "source": [
    "### Inicializacija genteskega algoritma\n",
    "\n",
    "Začetna inicializacija začetne populacije:<br>\n",
    "Generiramo poteze, ki ne grejo nujno po veljavnih poljih, vendar približno na polovici pridejo do cilja. To dosežemo tako, da izračunamo oddaljenost starta in cilja po obeh dimenzijah, zgeneriramo ustrezno večje ali manjše število potez gor, dol ter levo, desno, nato pa te poteze naključno premešamo. Preostali del poti zapolnimo z naključnimi potezami. Cilj na sredini omogoča, da se pot do tja skrajšuje ali podaljšuje, ne da bi cilj izpadel iz poti.\n"
   ]
  },
  {
   "cell_type": "markdown",
   "metadata": {},
   "source": [
    "Končna inicializacija začetne populacije:<br>\n",
    "V večini točk je nesmiselno iti v smer zidu ali nazaj, od koder smo prišli, zato najprej v labirintu poiščemo \"točke odločitve\", to so start, cilj, zakladi in veljavna polja, ki imajo vsaj tri sosednja veljavna polja. To pomeni, da če gremo od ene izmed teh točk v neko smer, nadaljujemo po poti vse do naslednje take točke, ne da bi se vmes obračali ali zaletavali v zid. Zato zdaj nima več smisla v populacijo pisati vseh potez, ampak samo poteze na teh točkah, saj so povezave med njimi jasne. Začetne rešitve torej generiramo tako, da začnemo na cilju, izberemo eno imed veljavnih potez, pogledamo do katere odločitvene točke bomo prišli po tej poti, nato pa pri te in vseh nasledjih odločitvenih točkah spet naključno izberemo eno izmed možnih veljavnih potez. Tako so vse rešitve zapisane v veliko krajši obliki in vse se po labitintu sprehajajo samo po veljavnih poljih.\n",
    "\n",
    "```Python\n",
    "# insert \n",
    "```"
   ]
  },
  {
   "cell_type": "markdown",
   "metadata": {},
   "source": [
    "Kreiranje instance genetskega algoritma:\n",
    "\n",
    "```Python\n",
    "ga_instance = pygad.GA(num_generations=2000,\n",
    "                       num_parents_mating=10,\n",
    "                       initial_population=population,\n",
    "                       gene_space=[0, 1, 2, 3],\n",
    "                       keep_elitism=5,\n",
    "                       stop_criteria=\"saturate_200\",\n",
    "                       crossover_type=crossover_func,\n",
    "                       mutation_probability=1,\n",
    "                       mutation_type=mutation_func,\n",
    "                       fitness_func=fitness_func,\n",
    "                       on_generation=on_generation,\n",
    "                       on_stop=on_stop)\n",
    "```\n",
    "\n",
    "Zagon genetskega algoritma:\n",
    "\n",
    "```Python\n",
    "ga_instance.run()\n",
    "\n",
    "```"
   ]
  }
 ],
 "metadata": {
  "kernelspec": {
   "display_name": "Python 3.9.13 64-bit (microsoft store)",
   "language": "python",
   "name": "python3"
  },
  "language_info": {
   "codemirror_mode": {
    "name": "ipython",
    "version": 3
   },
   "file_extension": ".py",
   "mimetype": "text/x-python",
   "name": "python",
   "nbconvert_exporter": "python",
   "pygments_lexer": "ipython3",
   "version": "3.9.13"
  },
  "orig_nbformat": 4,
  "vscode": {
   "interpreter": {
    "hash": "fdce5722028e5fc3842c917e55eb24c832d3452d565d9511d2df1e02b1275225"
   }
  }
 },
 "nbformat": 4,
 "nbformat_minor": 2
}
